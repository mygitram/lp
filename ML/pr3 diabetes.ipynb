{
 "cells": [
  {
   "cell_type": "code",
   "execution_count": 1,
   "metadata": {},
   "outputs": [],
   "source": [
    "import numpy as np\n",
    "import pandas as pd\n",
    "from sklearn.neighbors import KNeighborsClassifier\n",
    "from sklearn.metrics import confusion_matrix, precision_score, recall_score, f1_score, accuracy_score\n",
    "data = pd.read_csv('./diabetes.csv')\n",
    "data.head()\n",
    "\n",
    "#Check for null or missing values\n",
    "data.isnull().sum()\n",
    "\n",
    "#Replace zero values with mean values\n",
    "for column in data.columns[1:-3]:\n",
    "    data[column].replace(0, np.NaN, inplace = True)\n",
    "    data[column].fillna(round(data[column].mean(skipna=True)), inplace = True)\n",
    "data.head(10)\n",
    "\n",
    "X = data.iloc[:, :8] #Features\n",
    "Y = data.iloc[:, 8:] #Predictor"
   ]
  },
  {
   "cell_type": "code",
   "execution_count": 2,
   "metadata": {},
   "outputs": [],
   "source": [
    "#Perform Spliting\n",
    "from sklearn.model_selection import train_test_split\n",
    "X_train, X_test, Y_train, Y_test = train_test_split(X, Y, test_size=0.2, random_state=0)\n",
    "#KNN\n",
    "\n",
    "knn = KNeighborsClassifier()\n",
    "knn_fit = knn.fit(X_train, Y_train.values.ravel())\n",
    "knn_pred = knn_fit.predict(X_test)"
   ]
  },
  {
   "cell_type": "code",
   "execution_count": 3,
   "metadata": {},
   "outputs": [
    {
     "name": "stdout",
     "output_type": "stream",
     "text": [
      "Confusion Matrix\n",
      "[[88 19]\n",
      " [19 28]]\n",
      "Accuracy Score: 0.7532467532467533\n",
      "Reacal Score: 0.5957446808510638\n",
      "F1 Score: 0.5957446808510638\n",
      "Precision Score: 0.5957446808510638\n"
     ]
    }
   ],
   "source": [
    "\n",
    "print(\"Confusion Matrix\")\n",
    "print(confusion_matrix(Y_test, knn_pred))\n",
    "print(\"Accuracy Score:\", accuracy_score(Y_test, knn_pred))\n",
    "print(\"Reacal Score:\", recall_score(Y_test, knn_pred))\n",
    "print(\"F1 Score:\", f1_score(Y_test, knn_pred))\n",
    "print(\"Precision Score:\",precision_score(Y_test, knn_pred))"
   ]
  },
  {
   "cell_type": "code",
   "execution_count": null,
   "metadata": {},
   "outputs": [],
   "source": []
  },
  {
   "cell_type": "code",
   "execution_count": null,
   "metadata": {},
   "outputs": [],
   "source": []
  },
  {
   "cell_type": "code",
   "execution_count": null,
   "metadata": {},
   "outputs": [],
   "source": []
  }
 ],
 "metadata": {
  "kernelspec": {
   "display_name": "base",
   "language": "python",
   "name": "python3"
  },
  "language_info": {
   "codemirror_mode": {
    "name": "ipython",
    "version": 3
   },
   "file_extension": ".py",
   "mimetype": "text/x-python",
   "name": "python",
   "nbconvert_exporter": "python",
   "pygments_lexer": "ipython3",
   "version": "3.8.8"
  }
 },
 "nbformat": 4,
 "nbformat_minor": 2
}
