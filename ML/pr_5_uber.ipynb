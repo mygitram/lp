{
 "cells": [
  {
   "cell_type": "code",
   "execution_count": 5,
   "metadata": {},
   "outputs": [],
   "source": [
    "\n",
    "import pandas as pd\n",
    "import numpy as np\n",
    "from sklearn.model_selection import train_test_split\n",
    "from sklearn.linear_model import LinearRegression\n",
    "from sklearn.ensemble import RandomForestRegressor\n",
    "from sklearn.metrics import mean_squared_error, r2_score\n",
    "\n",
    "# Load and preprocess the dataset\n",
    "df = pd.read_csv(\"./uber.csv\")  # Replace with your dataset path\n",
    "df.dropna(inplace=True)\n"
   ]
  },
  {
   "cell_type": "code",
   "execution_count": 6,
   "metadata": {},
   "outputs": [],
   "source": [
    "# !pip install geopy\n"
   ]
  },
  {
   "cell_type": "code",
   "execution_count": 7,
   "metadata": {},
   "outputs": [],
   "source": [
    "\n",
    "# Calculate distance using the Haversine formula\n",
    "def haversine(lon1, lat1, lon2, lat2):\n",
    "    R = 6371  # Radius of Earth in kilometers\n",
    "    lon1, lat1, lon2, lat2 = map(np.radians, [lon1, lat1, lon2, lat2])\n",
    "    dlon = lon2 - lon1\n",
    "    dlat = lat2 - lat1\n",
    "    a = np.sin(dlat / 2)**2 + np.cos(lat1) * np.cos(lat2) * np.sin(dlon / 2)**2\n",
    "    c = 2 * np.arctan2(np.sqrt(a), np.sqrt(1 - a))\n",
    "    return R * c\n",
    "\n",
    "df['distance'] = df.apply(lambda row: haversine(row['pickup_longitude'], row['pickup_latitude'],\n",
    "                                                row['dropoff_longitude'], row['dropoff_latitude']), axis=1)\n"
   ]
  },
  {
   "cell_type": "code",
   "execution_count": 4,
   "metadata": {},
   "outputs": [
    {
     "name": "stdout",
     "output_type": "stream",
     "text": [
      "Linear Regression -> R2 Score: 0.001, RMSE: 10.194\n",
      "Random Forest Regression -> R2 Score: 0.646, RMSE: 6.072\n"
     ]
    }
   ],
   "source": [
    "\n",
    "# Extract date and time features\n",
    "df['pickup_datetime'] = pd.to_datetime(df['pickup_datetime'])\n",
    "df['pickup_hour'] = df['pickup_datetime'].dt.hour\n",
    "df['pickup_day'] = df['pickup_datetime'].dt.day\n",
    "df['pickup_weekday'] = df['pickup_datetime'].dt.weekday\n",
    "\n",
    "# Drop unnecessary columns\n",
    "df.drop(columns=['key', 'pickup_datetime', 'pickup_longitude', 'pickup_latitude',\n",
    "                 'dropoff_longitude', 'dropoff_latitude'], inplace=True)\n",
    "\n",
    "# Define features and target variable\n",
    "X = df[['distance', 'pickup_hour', 'pickup_day', 'pickup_weekday', 'passenger_count']]\n",
    "y = df['fare_amount']\n",
    "\n",
    "# Split the data into training and test sets\n",
    "X_train, X_test, y_train, y_test = train_test_split(X, y, test_size=0.2, random_state=42)\n",
    "\n",
    "# Implement Linear Regression\n",
    "linear_model = LinearRegression()\n",
    "linear_model.fit(X_train, y_train)\n",
    "y_pred_linear = linear_model.predict(X_test)\n",
    "\n",
    "# Implement Random Forest Regression\n",
    "rf_model = RandomForestRegressor(random_state=42)\n",
    "rf_model.fit(X_train, y_train)\n",
    "y_pred_rf = rf_model.predict(X_test)\n",
    "\n",
    "# Evaluate Linear Regression\n",
    "linear_r2 = r2_score(y_test, y_pred_linear)\n",
    "linear_rmse = np.sqrt(mean_squared_error(y_test, y_pred_linear))\n",
    "print(f\"Linear Regression -> R2 Score: {linear_r2:.3f}, RMSE: {linear_rmse:.3f}\")\n",
    "\n",
    "# Evaluate Random Forest Regression\n",
    "rf_r2 = r2_score(y_test, y_pred_rf)\n",
    "rf_rmse = np.sqrt(mean_squared_error(y_test, y_pred_rf))\n",
    "print(f\"Random Forest Regression -> R2 Score: {rf_r2:.3f}, RMSE: {rf_rmse:.3f}\")\n"
   ]
  },
  {
   "cell_type": "code",
   "execution_count": null,
   "metadata": {},
   "outputs": [],
   "source": []
  },
  {
   "cell_type": "code",
   "execution_count": null,
   "metadata": {},
   "outputs": [],
   "source": []
  },
  {
   "cell_type": "code",
   "execution_count": null,
   "metadata": {},
   "outputs": [],
   "source": []
  }
 ],
 "metadata": {
  "kernelspec": {
   "display_name": "base",
   "language": "python",
   "name": "python3"
  },
  "language_info": {
   "codemirror_mode": {
    "name": "ipython",
    "version": 3
   },
   "file_extension": ".py",
   "mimetype": "text/x-python",
   "name": "python",
   "nbconvert_exporter": "python",
   "pygments_lexer": "ipython3",
   "version": "3.8.8"
  }
 },
 "nbformat": 4,
 "nbformat_minor": 2
}
