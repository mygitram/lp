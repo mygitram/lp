{
 "cells": [
  {
   "cell_type": "code",
   "execution_count": 1,
   "metadata": {},
   "outputs": [],
   "source": [
    "import matplotlib.pyplot as plt"
   ]
  },
  {
   "cell_type": "code",
   "execution_count": 2,
   "metadata": {},
   "outputs": [],
   "source": [
    "def cost_function(x):\n",
    "    # ithe given function yenar\n",
    "    return (x + 3) ** 2\n",
    "def gradient(x):\n",
    "    # ithe derivate of given function yenar\n",
    "    return 2 * (x + 3)\n",
    "learning_rate = 0.1\n",
    "initial_x = 2.0\n",
    "num_iterations = 10"
   ]
  },
  {
   "cell_type": "code",
   "execution_count": 3,
   "metadata": {},
   "outputs": [
    {
     "name": "stdout",
     "output_type": "stream",
     "text": [
      "Iteration 1: x = 1.0, Cost = 16.0\n",
      "Iteration 2: x = 0.19999999999999996, Cost = 10.240000000000002\n",
      "Iteration 3: x = -0.44000000000000017, Cost = 6.553599999999998\n",
      "Iteration 4: x = -0.9520000000000001, Cost = 4.194304\n",
      "Iteration 5: x = -1.3616000000000001, Cost = 2.6843545599999996\n",
      "Iteration 6: x = -1.6892800000000001, Cost = 1.7179869183999996\n",
      "Iteration 7: x = -1.951424, Cost = 1.099511627776\n",
      "Iteration 8: x = -2.1611392, Cost = 0.7036874417766399\n",
      "Iteration 9: x = -2.32891136, Cost = 0.4503599627370493\n",
      "Iteration 10: x = -2.463129088, Cost = 0.28823037615171165\n",
      "Optimal x: -2.463129088\n"
     ]
    }
   ],
   "source": [
    "x_values = []\n",
    "y_values = []\n",
    "x = initial_x\n",
    "for i in range(num_iterations):\n",
    "    x_values.append(x)\n",
    "    y_values.append(cost_function(x))\n",
    "    gradient_value = gradient(x)\n",
    "    x = x - learning_rate * gradient_value\n",
    "\n",
    "    print(f'Iteration {i+1}: x = {x}, Cost = {cost_function(x)}')\n",
    "\n",
    "print(f'Optimal x: {x}')"
   ]
  },
  {
   "cell_type": "code",
   "execution_count": 4,
   "metadata": {},
   "outputs": [
    {
     "data": {
      "image/png": "[encoded data removed]",
      "text/plain": [
       "<Figure size 432x288 with 1 Axes>"
      ]
     },
     "metadata": {
      "needs_background": "light"
     },
     "output_type": "display_data"
    }
   ],
   "source": [
    "plt.plot(x_values, y_values, 'ro-')\n",
    "plt.title('Gradient Descent Visualization for y = (x + 3)^2 by AB')\n",
    "plt.xlabel('x')\n",
    "plt.ylabel('y')\n",
    "plt.show()"
   ]
  },
  {
   "cell_type": "code",
   "execution_count": null,
   "metadata": {},
   "outputs": [],
   "source": []
  }
 ],
 "metadata": {
  "kernelspec": {
   "display_name": "base",
   "language": "python",
   "name": "python3"
  },
  "language_info": {
   "codemirror_mode": {
    "name": "ipython",
    "version": 3
   },
   "file_extension": ".py",
   "mimetype": "text/x-python",
   "name": "python",
   "nbconvert_exporter": "python",
   "pygments_lexer": "ipython3",
   "version": "3.8.8"
  }
 },
 "nbformat": 4,
 "nbformat_minor": 2
}
